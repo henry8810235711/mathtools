{
 "cells": [
  {
   "cell_type": "markdown",
   "metadata": {},
   "source": [
    "SHIBALUMA"
   ]
  },
  {
   "cell_type": "code",
   "execution_count": 1,
   "metadata": {},
   "outputs": [],
   "source": [
    "import matplotlib.pyplot as plt\n",
    "import numpy as np\n",
    "import time\n",
    "tStart = time.time()"
   ]
  },
  {
   "cell_type": "code",
   "execution_count": 2,
   "metadata": {},
   "outputs": [],
   "source": [
    "def f(x):\n",
    "    return (1/x)*np.cos((1/x)*np.log(x))\n",
    "\n",
    "def df(x):\n",
    "    return ((np.log(x)-1)*(np.sin(np.log(x)/x))-x*np.cos(np.log(x)/x))/(x*x*x)\n",
    "z=10"
   ]
  },
  {
   "cell_type": "code",
   "execution_count": 3,
   "metadata": {},
   "outputs": [],
   "source": [
    "def g(k):\n",
    "    def f(x):\n",
    "        return (1/x)*np.log(x)+(k)*np.pi\n",
    "    return f\n",
    "def dg(x):\n",
    "    return (1-np.log(x))/(x*x)"
   ]
  },
  {
   "cell_type": "code",
   "execution_count": 4,
   "metadata": {},
   "outputs": [],
   "source": [
    "def newton(\n",
    "    func,\n",
    "    d_func,\n",
    "    x_0,\n",
    "    tolerance,\n",
    "    max_iterations,\n",
    "    report_history\n",
    "):\n",
    "    x_n = x_0\n",
    "    num_iterations = 0\n",
    "    \n",
    "    while True:\n",
    "        \n",
    "        f_of_x_n = func(x_n)\n",
    "        \n",
    "        error = abs(f_of_x_n)\n",
    "        \n",
    "        if error < tolerance:\n",
    "            #print('Found solution after',num_iterations,'iterations.')\n",
    "            return x_n\n",
    "        \n",
    "        d_f_of_x_n = d_func(x_n)\n",
    "        \n",
    "        if d_f_of_x_n == 0:\n",
    "            #print('Zero derivative. No solution found.')\n",
    "            return None\n",
    "        \n",
    "        if num_iterations < max_iterations:\n",
    "            num_iterations += 1\n",
    "            \n",
    "            x_n = x_n - f_of_x_n / d_f_of_x_n\n",
    "            \n",
    "        else:\n",
    "            #print('Terminate since reached the maximum iterations.')\n",
    "            #print(error)\n",
    "            return x_n\n"
   ]
  },
  {
   "cell_type": "code",
   "execution_count": 5,
   "metadata": {
    "scrolled": true
   },
   "outputs": [],
   "source": [
    "a=[]\n",
    "root=1\n",
    "for i in range(1,z,1):\n",
    "    root = newton(g(i), dg, root*0.5, max_iterations=100, tolerance=1e-15, report_history=False)\n",
    "    a.append(root)"
   ]
  },
  {
   "cell_type": "code",
   "execution_count": 6,
   "metadata": {},
   "outputs": [],
   "source": [
    "def simpson(\n",
    "    f,\n",
    "    a,\n",
    "    b,\n",
    "    N=50\n",
    "):\n",
    "    if N % 2 == 1:\n",
    "        raise ValueError(\"N must be an even number\")\n",
    "    dx = (b-a)/N\n",
    "    x = np.linspace(a,b,N+1)\n",
    "    y = f(x)\n",
    "    S = dx / 3 * np.sum(y[0:-1:2] + 4 * y[1::2] + y[2::2])\n",
    "    return S"
   ]
  },
  {
   "cell_type": "code",
   "execution_count": 7,
   "metadata": {},
   "outputs": [],
   "source": [
    "s=[]\n",
    "T = simpson(f, a[0], 1, N=100000)\n",
    "s.append(T)\n",
    "for i in range(0,z-5,1):\n",
    "    T = simpson(f, a[i+1], a[i], N=10000)\n",
    "    s.append(T)"
   ]
  },
  {
   "cell_type": "code",
   "execution_count": 8,
   "metadata": {},
   "outputs": [
    {
     "name": "stdout",
     "output_type": "stream",
     "text": [
      "-907.7750682728196\n"
     ]
    }
   ],
   "source": [
    "z=1000\n",
    "W = 0\n",
    "for i in range(0,z,1):\n",
    "    W += f((i/z)/2+((i+1)/z)/2)\n",
    "print(W)"
   ]
  },
  {
   "cell_type": "code",
   "execution_count": 9,
   "metadata": {},
   "outputs": [
    {
     "name": "stdout",
     "output_type": "stream",
     "text": [
      "0.3216588826039751\n",
      "0.27986645698547363\n"
     ]
    }
   ],
   "source": [
    "print(sum(s))\n",
    "tEnd = time.time()\n",
    "\n",
    "print (tEnd - tStart)"
   ]
  },
  {
   "cell_type": "code",
   "execution_count": 10,
   "metadata": {},
   "outputs": [
    {
     "data": {
      "text/plain": [
       "-0.0017085490738036335"
      ]
     },
     "execution_count": 10,
     "metadata": {},
     "output_type": "execute_result"
    }
   ],
   "source": [
    "\n",
    "\n",
    "\n",
    "\n",
    "0.3216588826039751-0.32336743167777876139"
   ]
  }
 ],
 "metadata": {
  "kernelspec": {
   "display_name": "Python 3",
   "language": "python",
   "name": "python3"
  },
  "language_info": {
   "codemirror_mode": {
    "name": "ipython",
    "version": 3
   },
   "file_extension": ".py",
   "mimetype": "text/x-python",
   "name": "python",
   "nbconvert_exporter": "python",
   "pygments_lexer": "ipython3",
   "version": "3.7.3"
  }
 },
 "nbformat": 4,
 "nbformat_minor": 2
}
