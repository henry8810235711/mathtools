{
 "cells": [
  {
   "cell_type": "code",
   "execution_count": 1,
   "metadata": {},
   "outputs": [],
   "source": [
    "import scipy\n",
    "from scipy import array\n",
    "import time\n",
    "tStart = time.time()\n",
    "\n",
    "def quad_routine(func, a, b, x_list, w_list):\n",
    "    c_1 = (b-a)/2.0\n",
    "    c_2 = (b+a)/2.0\n",
    "    eval_points = map(lambda x: c_1*x+c_2, x_list)\n",
    "    func_evals = list(map(func, eval_points))    # Python 3: make a list here\n",
    "    return c_1 * sum(array(func_evals) * array(w_list))\n",
    "\n",
    "def quad_gauss_7(func, a, b):\n",
    "    x_gauss = [-0.949107912342759, -0.741531185599394, -0.405845151377397, 0, 0.405845151377397, 0.741531185599394, 0.949107912342759]\n",
    "    w_gauss = array([0.129484966168870, 0.279705391489277, 0.381830050505119, 0.417959183673469, 0.381830050505119, 0.279705391489277,0.129484966168870])\n",
    "    return quad_routine(func,a,b,x_gauss, w_gauss)\n",
    "\n",
    "def quad_kronrod_15(func, a, b):\n",
    "    x_kr = [-0.991455371120813,-0.949107912342759, -0.864864423359769, -0.741531185599394, -0.586087235467691,-0.405845151377397, -0.207784955007898, 0.0, 0.207784955007898,0.405845151377397, 0.586087235467691, 0.741531185599394, 0.864864423359769, 0.949107912342759, 0.991455371120813]\n",
    "    w_kr = [0.022935322010529, 0.063092092629979, 0.104790010322250, 0.140653259715525, 0.169004726639267, 0.190350578064785, 0.204432940075298, 0.209482141084728, 0.204432940075298, 0.190350578064785, 0.169004726639267, 0.140653259715525,  0.104790010322250, 0.063092092629979, 0.022935322010529]\n",
    "    return quad_routine(func,a,b,x_kr, w_kr)\n",
    "\n",
    "class Memoize:                     \n",
    "    def __init__(self, func):\n",
    "        self.func = func\n",
    "        self.eval_points = {}\n",
    "    def __call__(self, *args):\n",
    "        if args not in self.eval_points:\n",
    "            self.eval_points[args] = self.func(*args)\n",
    "        return self.eval_points[args]\n",
    "\n",
    "def quad(func,a,b):\n",
    "    ''' Output is the 15 point estimate; and the estimated error '''\n",
    "    func = Memoize(func) \n",
    "    g7 = quad_gauss_7(func,a,b)\n",
    "    k15 = quad_kronrod_15(func,a,b)\n",
    "    return (k15)\n",
    "\n",
    "def error(func,a,b):\n",
    "    func = Memoize(func) \n",
    "    g7 = quad_gauss_7(func,a,b)\n",
    "    k15 = quad_kronrod_15(func,a,b)    \n",
    "    return ((200*scipy.absolute(g7-k15))**1.5)"
   ]
  },
  {
   "cell_type": "code",
   "execution_count": 2,
   "metadata": {},
   "outputs": [],
   "source": [
    "import matplotlib.pyplot as plt\n",
    "import numpy as np"
   ]
  },
  {
   "cell_type": "code",
   "execution_count": 3,
   "metadata": {},
   "outputs": [],
   "source": [
    "def f(x):\n",
    "    return (1/x)*np.cos((1/x)*np.log(x))\n",
    "\n",
    "def df(x):\n",
    "    return ((np.log(x)-1)*(np.sin(np.log(x)/x))-x*np.cos(np.log(x)/x))/(x*x*x)\n",
    "z=1000000"
   ]
  },
  {
   "cell_type": "code",
   "execution_count": 4,
   "metadata": {},
   "outputs": [],
   "source": [
    "def g(k):\n",
    "    def f(x):\n",
    "        return (1/x)*np.log(x)+(k)*np.pi\n",
    "    return f\n",
    "def dg(x):\n",
    "    return (1-np.log(x))/(x*x)"
   ]
  },
  {
   "cell_type": "code",
   "execution_count": 5,
   "metadata": {},
   "outputs": [],
   "source": [
    "def newton(\n",
    "    func,\n",
    "    d_func,\n",
    "    x_0,\n",
    "    tolerance,\n",
    "    max_iterations,\n",
    "    report_history\n",
    "):\n",
    "    x_n = x_0\n",
    "    num_iterations = 0\n",
    "    \n",
    "    while True:\n",
    "        \n",
    "        f_of_x_n = func(x_n)\n",
    "        \n",
    "        error = abs(f_of_x_n)\n",
    "        \n",
    "        if error < tolerance:\n",
    "            #print('Found solution after',num_iterations,'iterations.')\n",
    "            return x_n\n",
    "        \n",
    "        d_f_of_x_n = d_func(x_n)\n",
    "        \n",
    "        if d_f_of_x_n == 0:\n",
    "            #print('Zero derivative. No solution found.')\n",
    "            return None\n",
    "        \n",
    "        if num_iterations < max_iterations:\n",
    "            num_iterations += 1\n",
    "            \n",
    "            x_n = x_n - f_of_x_n / d_f_of_x_n\n",
    "            \n",
    "        else:\n",
    "            #print('Terminate since reached the maximum iterations.')\n",
    "            #print(error)\n",
    "            return x_n\n"
   ]
  },
  {
   "cell_type": "code",
   "execution_count": 6,
   "metadata": {
    "scrolled": true
   },
   "outputs": [],
   "source": [
    "a=[]\n",
    "root=1\n",
    "for i in range(1,z,1):\n",
    "    root = newton(g(i), dg, root*0.5, max_iterations=100, tolerance=1e-15, report_history=False)\n",
    "    a.append(root)"
   ]
  },
  {
   "cell_type": "code",
   "execution_count": 7,
   "metadata": {},
   "outputs": [
    {
     "name": "stdout",
     "output_type": "stream",
     "text": [
      "(0.32336743174640686-0.45936061810895573j)\n",
      "470.3708837032318\n"
     ]
    }
   ],
   "source": [
    "M = quad(lambda x: (1/x)*scipy.exp(1j*(scipy.log(x)/x)), a[0],1)\n",
    "for i in range(0,z-5,1):\n",
    "    M += (quad(lambda x: (1/x)*scipy.exp(1j*(scipy.log(x)/x)), a[i+1],a[i]))\n",
    "print(M)\n",
    "tEnd = time.time()\n",
    "\n",
    "print (tEnd - tStart)"
   ]
  },
  {
   "cell_type": "code",
   "execution_count": 8,
   "metadata": {},
   "outputs": [
    {
     "data": {
      "text/plain": [
       "(6.862810320029666e-11-0.45936061810895573j)"
      ]
     },
     "execution_count": 8,
     "metadata": {},
     "output_type": "execute_result"
    }
   ],
   "source": [
    "M-0.32336743167777876139"
   ]
  },
  {
   "cell_type": "code",
   "execution_count": 9,
   "metadata": {
    "scrolled": true
   },
   "outputs": [],
   "source": [
    "##err = 0\n",
    "##for i in range(1,z-5,1):\n",
    " ##   err += (error(lambda x: (1/x)*scipy.exp(1j*(scipy.log(x)/x)), a[i+1],a[i]))\n",
    "##print(err)"
   ]
  }
 ],
 "metadata": {
  "kernelspec": {
   "display_name": "Python 3",
   "language": "python",
   "name": "python3"
  },
  "language_info": {
   "codemirror_mode": {
    "name": "ipython",
    "version": 3
   },
   "file_extension": ".py",
   "mimetype": "text/x-python",
   "name": "python",
   "nbconvert_exporter": "python",
   "pygments_lexer": "ipython3",
   "version": "3.8.8"
  }
 },
 "nbformat": 4,
 "nbformat_minor": 2
}
