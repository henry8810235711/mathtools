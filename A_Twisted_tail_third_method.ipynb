{
 "cells": [
  {
   "cell_type": "code",
   "execution_count": 1,
   "metadata": {},
   "outputs": [],
   "source": [
    "import scipy\n",
    "from scipy import array\n",
    "import time\n",
    "tStart = time.time()\n",
    "\n",
    "def quad_routine(func, a, b, x_list, w_list):\n",
    "    c_1 = (b-a)/2.0\n",
    "    c_2 = (b+a)/2.0\n",
    "    eval_points = map(lambda x: c_1*x+c_2, x_list)\n",
    "    func_evals = list(map(func, eval_points))    # Python 3: make a list here\n",
    "    return c_1 * sum(array(func_evals) * array(w_list))\n",
    "\n",
    "def quad_gauss_7(func, a, b):\n",
    "    x_gauss = [-0.949107912342759, -0.741531185599394, -0.405845151377397, 0, 0.405845151377397, 0.741531185599394, 0.949107912342759]\n",
    "    w_gauss = array([0.129484966168870, 0.279705391489277, 0.381830050505119, 0.417959183673469, 0.381830050505119, 0.279705391489277,0.129484966168870])\n",
    "    return quad_routine(func,a,b,x_gauss, w_gauss)\n",
    "\n",
    "def quad_kronrod_15(func, a, b):\n",
    "    x_kr = [-0.991455371120813,-0.949107912342759, -0.864864423359769, -0.741531185599394, -0.586087235467691,-0.405845151377397, -0.207784955007898, 0.0, 0.207784955007898,0.405845151377397, 0.586087235467691, 0.741531185599394, 0.864864423359769, 0.949107912342759, 0.991455371120813]\n",
    "    w_kr = [0.022935322010529, 0.063092092629979, 0.104790010322250, 0.140653259715525, 0.169004726639267, 0.190350578064785, 0.204432940075298, 0.209482141084728, 0.204432940075298, 0.190350578064785, 0.169004726639267, 0.140653259715525,  0.104790010322250, 0.063092092629979, 0.022935322010529]\n",
    "    return quad_routine(func,a,b,x_kr, w_kr)\n",
    "\n",
    "class Memoize:                     \n",
    "    def __init__(self, func):\n",
    "        self.func = func\n",
    "        self.eval_points = {}\n",
    "    def __call__(self, *args):\n",
    "        if args not in self.eval_points:\n",
    "            self.eval_points[args] = self.func(*args)\n",
    "        return self.eval_points[args]\n",
    "\n",
    "def quad(func,a,b):\n",
    "    ''' Output is the 15 point estimate; and the estimated error '''\n",
    "    func = Memoize(func) \n",
    "    g7 = quad_gauss_7(func,a,b)\n",
    "    k15 = quad_kronrod_15(func,a,b)\n",
    "    return (k15)\n",
    "\n",
    "def error(func,a,b):\n",
    "    func = Memoize(func) \n",
    "    g7 = quad_gauss_7(func,a,b)\n",
    "    k15 = quad_kronrod_15(func,a,b)    \n",
    "    return ((200*scipy.absolute(g7-k15))**1.5)"
   ]
  },
  {
   "cell_type": "code",
   "execution_count": 2,
   "metadata": {},
   "outputs": [],
   "source": [
    "import matplotlib.pyplot as plt\n",
    "import numpy as np"
   ]
  },
  {
   "cell_type": "code",
   "execution_count": 27,
   "metadata": {},
   "outputs": [
    {
     "name": "stdout",
     "output_type": "stream",
     "text": [
      "(0.32333856804819755-0.459355144494377j)\n",
      "0.14128107861406677\n"
     ]
    }
   ],
   "source": [
    "\n",
    "\n",
    "quad(lambda x: (1+1j-2*(1j)*x)*(x+1j*x*(1-x))**(1j/(x+1j*x*(1-x))-1), 0,1)\n",
    "error(lambda x: (1+1j-2*(1j)*x)*(x+1j*x*(1-x))**(1j/(x+1j*x*(1-x))-1), 0,1)\n",
    "\n",
    "print(quad(lambda x: (1+1j-2*(1j)*x)*(x+1j*x*(1-x))**(1j/(x+1j*x*(1-x))-1), 0,1))\n",
    "print(error(lambda x: (1+1j-2*(1j)*x)*(x+1j*x*(1-x))**(1j/(x+1j*x*(1-x))-1), 0,1)) "
   ]
  },
  {
   "cell_type": "code",
   "execution_count": 4,
   "metadata": {},
   "outputs": [],
   "source": [
    "##w1=quad(lambda x: (1-1j)*(x+1j*(1-x))**(1j/(x+1j*(1-x))-1), 0,1)\n",
    "##w2=quad(lambda x: (1j)*(1j*x)**(1j/(1j*x)-1), 0,1)\n",
    "##print(w1+w2)\n",
    "##e1=error(lambda x: (1-1j)*(x+1j*(1-x))**(1j/(x+1j*(1-x))-1), 0,1)\n",
    "##e2=error(lambda x: (1j)*(1j*x)**(1j/(1j*x)-1), 0,1)\n",
    "##print(e1+e2)"
   ]
  },
  {
   "cell_type": "code",
   "execution_count": 5,
   "metadata": {},
   "outputs": [
    {
     "name": "stdout",
     "output_type": "stream",
     "text": [
      "(0.32336743167777793-0.4593609128067775j)\n",
      "0.44101524353027344\n"
     ]
    },
    {
     "data": {
      "text/plain": [
       "(-8.326672684688674e-16-0.4593609128067775j)"
      ]
     },
     "execution_count": 5,
     "metadata": {},
     "output_type": "execute_result"
    }
   ],
   "source": [
    "z=1000\n",
    "t=0\n",
    "for i in range(0,z,1):\n",
    "    t += quad(lambda x: (1+1j-2*(1j)*x)*(x+1j*x*(1-x))**(1j/(x+1j*x*(1-x))-1), i/z,(i+1)/z)\n",
    "print(t)\n",
    "tEnd = time.time()\n",
    "\n",
    "print (tEnd - tStart)\n",
    "t-0.32336743167777876139"
   ]
  },
  {
   "cell_type": "code",
   "execution_count": 30,
   "metadata": {},
   "outputs": [
    {
     "name": "stdout",
     "output_type": "stream",
     "text": [
      "(0.27011320574012737-0.4327315802427229j)\n"
     ]
    }
   ],
   "source": [
    "z=1000\n",
    "t=0\n",
    "for i in range(0,z,1):\n",
    "    t += quad(lambda x: (1+1j-2*(1j)*x)*(x+1j*x*(1-x))**(1j/((x+1j*x*(1-x))**2)-2), i/z,(i+1)/z)\n",
    "print(t)"
   ]
  },
  {
   "cell_type": "code",
   "execution_count": 29,
   "metadata": {},
   "outputs": [
    {
     "name": "stdout",
     "output_type": "stream",
     "text": [
      "(0.36050280321796463-0.49863903132446924j)\n"
     ]
    }
   ],
   "source": [
    "t=0\n",
    "for i in range(0,100,1):\n",
    "    t += quad(lambda x: ((1j*x)**(-0.5))*np.exp(1j*np.tan(1j*x-np.pi/2)), i/100,(i+1)/100)\n",
    "    t += quad(lambda x: ((1-x+x*1j)**(-0.5))*np.exp(1j*np.tan((1-x+x*1j)-np.pi/2)), i/100,(i+1)/100)\n",
    "print(t)"
   ]
  },
  {
   "cell_type": "code",
   "execution_count": 22,
   "metadata": {},
   "outputs": [
    {
     "name": "stdout",
     "output_type": "stream",
     "text": [
      "(0.11483358284608555-0.41197083433832093j)\n"
     ]
    }
   ],
   "source": [
    "z=100\n",
    "t=0\n",
    "for i in range(0,z,1):\n",
    "    t += quad(lambda x: ((x+x*(1-x)*1j)**(-0.5))*np.exp(1j*np.tan((x+x*(1-x)*1j)-np.pi/2)), i/z,(i+1)/z)\n",
    "print(t)"
   ]
  },
  {
   "cell_type": "code",
   "execution_count": 25,
   "metadata": {},
   "outputs": [
    {
     "data": {
      "text/plain": [
       "(0.11485370321591493-0.4117905667822815j)"
      ]
     },
     "execution_count": 25,
     "metadata": {},
     "output_type": "execute_result"
    }
   ],
   "source": [
    "quad(lambda x: ((x+x*(1-x)*1j)**(-0.5))*np.exp(1j*np.tan((x+x*(1-x)*1j)-np.pi/2)), 0,1)\n",
    "#error(lambda x: ((x+x*(1-x)*1j)**(-0.5))*np.exp(1j*np.tan((x+x*(1-x)*1j)-np.pi/2)), 0,1)\n"
   ]
  },
  {
   "cell_type": "code",
   "execution_count": null,
   "metadata": {},
   "outputs": [],
   "source": []
  }
 ],
 "metadata": {
  "kernelspec": {
   "display_name": "Python 3",
   "language": "python",
   "name": "python3"
  },
  "language_info": {
   "codemirror_mode": {
    "name": "ipython",
    "version": 3
   },
   "file_extension": ".py",
   "mimetype": "text/x-python",
   "name": "python",
   "nbconvert_exporter": "python",
   "pygments_lexer": "ipython3",
   "version": "3.7.3"
  }
 },
 "nbformat": 4,
 "nbformat_minor": 2
}
